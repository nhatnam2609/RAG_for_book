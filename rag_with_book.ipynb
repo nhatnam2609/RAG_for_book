{
 "cells": [
  {
   "cell_type": "code",
   "execution_count": 1,
   "metadata": {},
   "outputs": [],
   "source": [
    "from langchain_community.document_loaders import PyPDFLoader\n",
    "from langchain_chroma import Chroma\n",
    "from langchain_community.embeddings.sentence_transformer import (\n",
    "    SentenceTransformerEmbeddings,\n",
    ")"
   ]
  },
  {
   "cell_type": "code",
   "execution_count": null,
   "metadata": {},
   "outputs": [],
   "source": [
    "loader = PyPDFLoader(\"book/ullman_the_complete_book.pdf\")\n",
    "pages = loader.load_and_split()"
   ]
  },
  {
   "cell_type": "code",
   "execution_count": null,
   "metadata": {},
   "outputs": [],
   "source": [
    "pages = pages[:600]"
   ]
  },
  {
   "cell_type": "code",
   "execution_count": 2,
   "metadata": {},
   "outputs": [
    {
     "name": "stderr",
     "output_type": "stream",
     "text": [
      "d:\\Project\\RAG_for_book\\rag_evn\\Lib\\site-packages\\tqdm\\auto.py:21: TqdmWarning: IProgress not found. Please update jupyter and ipywidgets. See https://ipywidgets.readthedocs.io/en/stable/user_install.html\n",
      "  from .autonotebook import tqdm as notebook_tqdm\n",
      "d:\\Project\\RAG_for_book\\rag_evn\\Lib\\site-packages\\huggingface_hub\\file_download.py:1132: FutureWarning: `resume_download` is deprecated and will be removed in version 1.0.0. Downloads always resume when possible. If you want to force a new download, use `force_download=True`.\n",
      "  warnings.warn(\n"
     ]
    }
   ],
   "source": [
    "# create the open-source embedding function\n",
    "embedding_function = SentenceTransformerEmbeddings(model_name=\"all-MiniLM-L6-v2\")\n",
    "\n",
    "# load it into Chroma\n",
    "# db = Chroma.from_documents(pages, embedding_function,persist_directory=\"./chroma_db\")"
   ]
  },
  {
   "cell_type": "code",
   "execution_count": 21,
   "metadata": {},
   "outputs": [],
   "source": [
    "db = Chroma(persist_directory= \"./chroma_db\", embedding_function=embedding_function)"
   ]
  },
  {
   "cell_type": "code",
   "execution_count": null,
   "metadata": {},
   "outputs": [],
   "source": [
    "# query it\n"
   ]
  },
  {
   "cell_type": "code",
   "execution_count": 33,
   "metadata": {},
   "outputs": [],
   "source": [
    "import google.generativeai as genai\n",
    "import google.ai.generativelanguage as glm\n",
    "import os\n",
    "import textwrap\n",
    "from IPython.display import Markdown\n",
    "load_dotenv()\n",
    "genai.configure(api_key=os.environ[\"GOOGLE_API_KEY\"])"
   ]
  },
  {
   "cell_type": "code",
   "execution_count": 28,
   "metadata": {},
   "outputs": [],
   "source": [
    "def make_prompt(query, relevant_passage):\n",
    "  escaped = relevant_passage.replace(\"'\", \"\").replace('\"', \"\").replace(\"\\n\", \" \")\n",
    "  prompt = textwrap.dedent(\"\"\"You are a helpful and informative bot that answers questions using text from the reference passage included below. \\\n",
    "  Be sure to respond in a complete sentence, being comprehensive, including all relevant background information. \\\n",
    "  However, you are talking to a non-technical audience, so be sure to break down complicated concepts and \\\n",
    "  strike a friendly and converstional tone. \\\n",
    "  If the passage is irrelevant to the answer, you may ignore it.\n",
    "  QUESTION: '{query}'\n",
    "  PASSAGE: '{relevant_passage}'\n",
    "\n",
    "    ANSWER:\n",
    "  \"\"\").format(query=query, relevant_passage=escaped)\n",
    "\n",
    "  return prompt"
   ]
  },
  {
   "cell_type": "code",
   "execution_count": 29,
   "metadata": {},
   "outputs": [
    {
     "name": "stdout",
     "output_type": "stream",
     "text": [
      "You are a helpful and informative bot that answers questions using text from the reference passage included below.   Be sure to respond in a complete sentence, being comprehensive, including all relevant background information.   However, you are talking to a non-technical audience, so be sure to break down complicated concepts and   strike a friendly and converstional tone.   If the passage is irrelevant to the answer, you may ignore it.\n",
      "  QUESTION: 'what is Modifying Relation Schemas'\n",
      "  PASSAGE: '2.3. DEFINING  A RELATION SCHEMA IN  SQL 33 The gender attribute has values that are a single letter, M  or F. Thus, we  can safely use a single character as the type of this attribute. Finally, the  b irth d a te  attribute naturally deserves the data type D A TE. □ 2.3.4 Modifying Relation Schemas We now know how to declare a table. But what if we need to change the schema  of the table after it has been in use for a long time and has many tuples in its  current instance? We can remove the entire table, including all of its current  tuples, or we could change the schema by adding or deleting attributes. We can delete a relation R by the SQL statement: D R O P TABLE R; Relation R is no longer part of the database schema, and we can no longer  access any of its tuples. More frequently than we would drop a relation that is part of a long-lived  database, we may need to modify the schema of an existing relation. These  modifications are done by a statement that begins with the keywords ALTER  TABLE and the name of the relation. We then have several options, the most  important of which are 1. A D D  followed by an attribute name and its data type. 2. D R O P followed by an attribute name. E xam ple 2.4: Thus, for instance, we could modify the MovieStar relation by  adding an attribute phone with: ALTER TA BLE MovieStar A D D  phone CHAR(16); As a result, the MovieStar schema now has five attributes: the four mentioned  in Fig. 2.8 and the attribute phone, which is a fixed-length string of 16 bytes.  In the actual relation, tuples would all have components for phone, but we  know of no phone numbers to put there. Thus, the value of each of these  components is set to the special null value,  N U LL. In Section 2.3.5, we shall see  how it is possible to choose another “default” value to be used instead of N U L L   for unknown values. As another example, the A LTER TABLE statement: ALTER TA BLE MovieStar D R O P b irth d a te ; deletes the b irth d a te  attribute. As a result, the schema for MovieStar no  longer has that attribute, and all tuples of the current MovieStar instance  have the component for b irth d a te  deleted. □'\n",
      "\n",
      "    ANSWER:\n",
      "\n"
     ]
    }
   ],
   "source": [
    "context = docs[0].page_content\n",
    "\n",
    "prompt = make_prompt(query, context)\n",
    "print(prompt)"
   ]
  },
  {
   "cell_type": "code",
   "execution_count": 22,
   "metadata": {},
   "outputs": [
    {
     "data": {
      "text/plain": [
       "[Document(page_content='2.3. DEFINING  A RELATION SCHEMA IN  SQL 33\\nThe gender attribute has values that are a single letter, M  or F. Thus, we \\ncan safely use a single character as the type of this attribute. Finally, the \\nb irth d a te  attribute naturally deserves the data type D A TE. □\\n2.3.4 Modifying Relation Schemas\\nWe now know how to declare a table. But what if we need to change the schema \\nof the table after it has been in use for a long time and has many tuples in its \\ncurrent instance? We can remove the entire table, including all of its current \\ntuples, or we could change the schema by adding or deleting attributes.\\nWe can delete a relation R by the SQL statement:\\nD R O P TABLE R;\\nRelation R is no longer part of the database schema, and we can no longer \\naccess any of its tuples.\\nMore frequently than we would drop a relation that is part of a long-lived \\ndatabase, we may need to modify the schema of an existing relation. These \\nmodifications are done by a statement that begins with the keywords ALTER \\nTABLE and the name of the relation. We then have several options, the most \\nimportant of which are\\n1. A D D  followed by an attribute name and its data type.\\n2. D R O P followed by an attribute name.\\nE xam ple 2.4: Thus, for instance, we could modify the MovieStar relation by \\nadding an attribute phone with:\\nALTER TA BLE MovieStar A D D  phone CHAR(16);\\nAs a result, the MovieStar schema now has five attributes: the four mentioned \\nin Fig. 2.8 and the attribute phone, which is a fixed-length string of 16 bytes. \\nIn the actual relation, tuples would all have components for phone, but we \\nknow of no phone numbers to put there. Thus, the value of each of these \\ncomponents is set to the special null value,  N U LL. In Section 2.3.5, we shall see \\nhow it is possible to choose another “default” value to be used instead of N U L L  \\nfor unknown values.\\nAs another example, the A LTER TABLE statement:\\nALTER TA BLE MovieStar D R O P b irth d a te ;\\ndeletes the b irth d a te  attribute. As a result, the schema for MovieStar no \\nlonger has that attribute, and all tuples of the current MovieStar instance \\nhave the component for b irth d a te  deleted. □', metadata={'page': 69, 'source': 'book/ullman_the_complete_book.pdf'}),\n",
       " Document(page_content='Chapter 3\\nDesign Theory for  \\nRelational Databases\\nThere are many ways we could go about designing a relational database schema \\nfor an application. In Chapter 4 we shall see several high-level notations for \\ndescribing the structure of data and the ways in which these high-level designs \\ncan be converted into relations. We can also examine the requirements for a \\ndatabase and define relations directly, without going through a high-level inter\\xad\\nmediate stage. Whatever approach we use, it is common for an initial relational \\nschema to have room for improvement, especially by eliminating redundancy. \\nOften, the problems with a schema involve trying to combine too much into \\none relation.\\nFortunately, there is a well developed theory for relational databases: “de\\xad\\npendencies,” their implications for what makes a good relational database \\nschema, and what we can do about a schema if it has flaws. In this chapter, \\nwe first identify the problems that are caused in some relation schemas by the \\npresence of certain dependencies; these problems are referred to as “anomalies.”\\nOur discussion starts with “functional dependencies,” a generalization of the \\nidea of a key for a relation. We then use the notion of functional dependencies \\nto define normal forms for relation schemas. The impact of this theory, called \\n“normalization,” is that we decompose relations into two or more relations when \\nthat will remove anomalies. Next, we introduce “multivalued dependencies,” \\nwhich intuitively represent a condition where one or more attributes of a relation \\nare independent from one or more other attributes. These dependencies also \\nlead to normal forms and decomposition of relations to eliminate redundancy.\\n3.1 Functional Dependencies\\nThere is a design theory for relations that lets us examine a design carefully \\nand make improvements based on a few simple principles. The theory begins by\\n67', metadata={'page': 103, 'source': 'book/ullman_the_complete_book.pdf'}),\n",
       " Document(page_content='446 CHAPTER 10. ADVANCED TOPICS IN  RELATIONAL DATABASES\\nthere are even some circumstances where users can see the identifier for \\na tuple in an object-relational system.\\n4. References.  While the pure relational model has no notion of references \\nor pointers to tuples, object-relational systems can use these references in \\nvarious ways.\\nIn the next sections, we shall elaborate upon and illustrate each of these addi\\xad\\ntional capabilities of object-relational systems.\\n10.3.2 Nested Relations\\nIn the nested-relational model,  we allow attributes of relations to have a type \\nthat is not atomic; in particular, a type can be a relation schema. As a result, \\nthere is a convenient, recursive definition of the types of attributes and the \\ntypes (schemas) of relations:\\nBASIS: An atomic type (integer, real, string, etc.) can be the type of an \\nattribute.\\nINDUCTION: A relation’s type can be any schema  consisting of names for one \\nor more attributes, and any legal type for each attribute. In addition, a schema \\nalso can be the type of any attribute.\\nIn what follows, we shall generally omit atomic types where they do not \\nmatter. An attribute that is a schema will be represented by the attribute name \\nand a parenthesized list of the attributes of its schema. Since those attributes \\nmay themselves have structure, parentheses can be nested to any depth.\\nE xam ple 10.11: Let us design a nested-relation schema for stars that incor\\xad\\nporates within the relation an attribute movies, which will be a relation rep\\xad\\nresenting all the movies in which the star has appeared. The relation schema \\nfor attribute movies will include the title, year, and length of the movie. The \\nrelation schema for the relation S ta rs will include the name, address, and birth\\xad\\ndate, as well as the information found in movies. Additionally, the address \\nattribute will have a relation type with attributes s tr e e t and c ity . We can \\nrecord in this relation several addresses for the star. The schema for S ta rs can \\nbe written:\\nStars(nam e, a d d re s s (s tre e t, c ity ) , b irth d a te , \\nm o v ie s (title , y ea r, len g th ))\\nAn example of a possible relation for nested relation S ta rs is shown in \\nFig. 10.15. We see in this relation two tuples, one for Carrie Fisher and one \\nfor Mark Hamill. The values of components are abbreviated to conserve space, \\nand the dashed lines separating tuples are only for convenience and have no \\nnotational significance.', metadata={'page': 482, 'source': 'book/ullman_the_complete_book.pdf'}),\n",
       " Document(page_content='50 CHAPTER 2. THE RELATIONAL MODEL OF DATA\\nWhen we take the product of R with this new relation, there is no conflict \\nof names among the attributes, so no further renaming is done. That is, the \\nresult of the expression R x P s ( x , c , D ) ( S )  is the relation R x S  from Fig. 2.14(c), \\nexcept that the five columns are labeled A, B, X, C,  and D, from the left. This \\nrelation is shown in Fig. 2.19.\\nAs an alternative, we could take the product without renaming, as we did \\nin Example 2.12, and then rename the result. The expression\\nyields the same relation as in Fig. 2.19, with the same set of attributes. But \\nthis relation has a name, RS, while the result relation in Fig. 2.19 has no name.\\n□\\n2.4.12 Relationships Among Operations\\nSome of the operations that we have described in Section 2.4 can be expressed \\nin terms of other relational-algebra operations. For example, intersection can \\nbe expressed in terms of set difference:\\nThat is, if R and S are any two relations with the same schema, the intersection \\nof R and S can be computed by first subtracting 5 from R to form a relation \\nT consisting of all those tuples in R but not S. We then subtract T from R, \\nleaving only those tuples of R that are also in S.\\nThe two forms of join are also expressible in terms of other operations. \\nTheta-join can be expressed by product and selection:\\nThe natural join of R and S can be expressed by starting with the product \\nR x S .  We then apply the selection operator with a condition C of the form\\nR.Ax = S.Ai  AND R.A2  = S.A2  AND •  •  •  AND R.An = S.An\\nwhere A i, A2 ,...  , An are all the attributes appearing in the schemas of both R \\nand S. Finally, we must project out one copy of each of the equated attributes. \\nLet L be the list of attributes in the schema of R followed by those attributes \\nin the schema of S that are not also in the schema of R. Then\\nE xam ple 2.19: The natural join of the relations U and V from Fig. 2.16 can \\nbe written in terms of product, selection, and projection as:P r s ( a , b , x , c , d ) ( R  x S)\\nR r \\\\S  = R - ( R - S )\\nR ix c S = ac(R  x S)\\n7TA , U .B ,U .C ,D \\\\ c r u .B = V .B  AND U . G = V . c { U  X  V', metadata={'page': 86, 'source': 'book/ullman_the_complete_book.pdf'})]"
      ]
     },
     "execution_count": 22,
     "metadata": {},
     "output_type": "execute_result"
    }
   ],
   "source": [
    "query = \"what is Modifying Relation Schemas\"\n",
    "docs = db.similarity_search(query)\n",
    "docs"
   ]
  },
  {
   "cell_type": "code",
   "execution_count": 39,
   "metadata": {},
   "outputs": [
    {
     "data": {
      "text/plain": [
       "{'page': 69, 'source': 'book/ullman_the_complete_book.pdf'}"
      ]
     },
     "execution_count": 39,
     "metadata": {},
     "output_type": "execute_result"
    }
   ],
   "source": [
    "docs[0].metadata"
   ]
  },
  {
   "cell_type": "code",
   "execution_count": 31,
   "metadata": {},
   "outputs": [
    {
     "data": {
      "text/plain": [
       "response:\n",
       "GenerateContentResponse(\n",
       "    done=True,\n",
       "    iterator=None,\n",
       "    result=glm.GenerateContentResponse({\n",
       "      \"candidates\": [\n",
       "        {\n",
       "          \"content\": {\n",
       "            \"parts\": [\n",
       "              {\n",
       "                \"text\": \"Modifying a relation schema, or table definition, in SQL involves making changes to the existing schema, such as adding or deleting attributes.   To add an attribute, the ALTER TABLE statement can be used with the ADD keyword, followed by the attribute name and data type.   For example, to add a phone attribute to the MovieStar table as a fixed-length string of 16 bytes, the following statement would be used: ALTER TABLE MovieStar ADD phone CHAR(16).   Similarly, to delete an attribute, the ALTER TABLE statement can be used with the DROP keyword, followed by the attribute name.   For example, to delete the birthdate attribute from the MovieStar table, the following statement would be used: ALTER TABLE MovieStar DROP birthdate.   These modifications allow you to change the schema of a table without having to recreate it from scratch.\"\n",
       "              }\n",
       "            ],\n",
       "            \"role\": \"model\"\n",
       "          },\n",
       "          \"finish_reason\": 1,\n",
       "          \"index\": 0,\n",
       "          \"safety_ratings\": [\n",
       "            {\n",
       "              \"category\": 9,\n",
       "              \"probability\": 1,\n",
       "              \"blocked\": false\n",
       "            },\n",
       "            {\n",
       "              \"category\": 8,\n",
       "              \"probability\": 1,\n",
       "              \"blocked\": false\n",
       "            },\n",
       "            {\n",
       "              \"category\": 7,\n",
       "              \"probability\": 1,\n",
       "              \"blocked\": false\n",
       "            },\n",
       "            {\n",
       "              \"category\": 10,\n",
       "              \"probability\": 1,\n",
       "              \"blocked\": false\n",
       "            }\n",
       "          ],\n",
       "          \"token_count\": 0,\n",
       "          \"grounding_attributions\": []\n",
       "        }\n",
       "      ]\n",
       "    }),\n",
       ")"
      ]
     },
     "execution_count": 31,
     "metadata": {},
     "output_type": "execute_result"
    }
   ],
   "source": [
    "model = genai.GenerativeModel('gemini-1.0-pro-latest')\n",
    "answer = model.generate_content(prompt)\n",
    "answer"
   ]
  },
  {
   "cell_type": "code",
   "execution_count": 34,
   "metadata": {},
   "outputs": [
    {
     "data": {
      "text/markdown": [
       "Modifying a relation schema, or table definition, in SQL involves making changes to the existing schema, such as adding or deleting attributes.   To add an attribute, the ALTER TABLE statement can be used with the ADD keyword, followed by the attribute name and data type.   For example, to add a phone attribute to the MovieStar table as a fixed-length string of 16 bytes, the following statement would be used: ALTER TABLE MovieStar ADD phone CHAR(16).   Similarly, to delete an attribute, the ALTER TABLE statement can be used with the DROP keyword, followed by the attribute name.   For example, to delete the birthdate attribute from the MovieStar table, the following statement would be used: ALTER TABLE MovieStar DROP birthdate.   These modifications allow you to change the schema of a table without having to recreate it from scratch."
      ],
      "text/plain": [
       "<IPython.core.display.Markdown object>"
      ]
     },
     "execution_count": 34,
     "metadata": {},
     "output_type": "execute_result"
    }
   ],
   "source": [
    "Markdown(answer.text)"
   ]
  },
  {
   "cell_type": "code",
   "execution_count": 30,
   "metadata": {},
   "outputs": [
    {
     "name": "stdout",
     "output_type": "stream",
     "text": [
      "models/gemini-1.0-pro\n",
      "models/gemini-1.0-pro-001\n",
      "models/gemini-1.0-pro-latest\n",
      "models/gemini-1.0-pro-vision-latest\n",
      "models/gemini-1.5-flash\n",
      "models/gemini-1.5-flash-001\n",
      "models/gemini-1.5-flash-latest\n",
      "models/gemini-1.5-pro\n",
      "models/gemini-1.5-pro-001\n",
      "models/gemini-1.5-pro-latest\n",
      "models/gemini-pro\n",
      "models/gemini-pro-vision\n"
     ]
    }
   ],
   "source": [
    "\n",
    "for m in genai.list_models():\n",
    "  if 'generateContent' in m.supported_generation_methods:\n",
    "    print(m.name)"
   ]
  },
  {
   "cell_type": "code",
   "execution_count": null,
   "metadata": {},
   "outputs": [],
   "source": []
  }
 ],
 "metadata": {
  "kernelspec": {
   "display_name": "rag_evn",
   "language": "python",
   "name": "python3"
  },
  "language_info": {
   "codemirror_mode": {
    "name": "ipython",
    "version": 3
   },
   "file_extension": ".py",
   "mimetype": "text/x-python",
   "name": "python",
   "nbconvert_exporter": "python",
   "pygments_lexer": "ipython3",
   "version": "3.11.4"
  }
 },
 "nbformat": 4,
 "nbformat_minor": 2
}
