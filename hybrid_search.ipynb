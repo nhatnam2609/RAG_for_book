{
 "cells": [
  {
   "cell_type": "code",
   "execution_count": 14,
   "metadata": {},
   "outputs": [],
   "source": [
    "from langchain.retrievers import BM25Retriever, EnsembleRetriever\n",
    "from langchain.document_loaders import PyPDFLoader"
   ]
  },
  {
   "cell_type": "code",
   "execution_count": 12,
   "metadata": {},
   "outputs": [],
   "source": [
    "pdf_path = \"book/ullman_the_complete_book.pdf\"\n",
    "loader = PyPDFLoader(pdf_path)\n",
    "pages = loader.load_and_split()"
   ]
  },
  {
   "cell_type": "code",
   "execution_count": 15,
   "metadata": {},
   "outputs": [],
   "source": [
    "bm25_retriever = BM25Retriever.from_documents(pages)"
   ]
  },
  {
   "cell_type": "code",
   "execution_count": 17,
   "metadata": {},
   "outputs": [
    {
     "ename": "TypeError",
     "evalue": "__init__() should return None, not 'Chroma'",
     "output_type": "error",
     "traceback": [
      "\u001b[1;31m---------------------------------------------------------------------------\u001b[0m",
      "\u001b[1;31mTypeError\u001b[0m                                 Traceback (most recent call last)",
      "Cell \u001b[1;32mIn[17], line 2\u001b[0m\n\u001b[0;32m      1\u001b[0m \u001b[38;5;28;01mfrom\u001b[39;00m \u001b[38;5;21;01mdatabase\u001b[39;00m \u001b[38;5;28;01mimport\u001b[39;00m DocumentDatabase\n\u001b[1;32m----> 2\u001b[0m database \u001b[38;5;241m=\u001b[39m \u001b[43mDocumentDatabase\u001b[49m\u001b[43m(\u001b[49m\u001b[43mpersist_directory\u001b[49m\u001b[38;5;241;43m=\u001b[39;49m\u001b[38;5;124;43m\"\u001b[39;49m\u001b[38;5;124;43m./chroma_db\u001b[39;49m\u001b[38;5;124;43m\"\u001b[39;49m\u001b[43m)\u001b[49m\n",
      "\u001b[1;31mTypeError\u001b[0m: __init__() should return None, not 'Chroma'"
     ]
    }
   ],
   "source": [
    "from database import DocumentDatabase\n",
    "database = DocumentDatabase(persist_directory=\"./chroma_db\")"
   ]
  },
  {
   "cell_type": "code",
   "execution_count": 3,
   "metadata": {},
   "outputs": [],
   "source": [
    "from langchain_community.document_loaders import PyPDFLoader\n",
    "from langchain_community.embeddings.sentence_transformer import (\n",
    "    SentenceTransformerEmbeddings,\n",
    ")\n",
    "from langchain_chroma import Chroma\n",
    "import os"
   ]
  },
  {
   "cell_type": "code",
   "execution_count": 4,
   "metadata": {},
   "outputs": [
    {
     "name": "stderr",
     "output_type": "stream",
     "text": [
      "d:\\Project\\RAG_for_book\\rag_evn\\Lib\\site-packages\\huggingface_hub\\file_download.py:1132: FutureWarning: `resume_download` is deprecated and will be removed in version 1.0.0. Downloads always resume when possible. If you want to force a new download, use `force_download=True`.\n",
      "  warnings.warn(\n"
     ]
    }
   ],
   "source": [
    "persist_directory=\"./chroma_db\"\n",
    "embedding_function = SentenceTransformerEmbeddings(model_name=\"all-MiniLM-L6-v2\")\n",
    "db_path = os.path.join(persist_directory, \"chroma.db\")\n",
    "db = Chroma(persist_directory=persist_directory, embedding_function=embedding_function)"
   ]
  },
  {
   "cell_type": "code",
   "execution_count": null,
   "metadata": {},
   "outputs": [],
   "source": [
    "db"
   ]
  },
  {
   "cell_type": "code",
   "execution_count": 5,
   "metadata": {},
   "outputs": [],
   "source": [
    "retriever_Chroma = db.as_retriever(search_kwargs={\"k\": 10})"
   ]
  },
  {
   "cell_type": "code",
   "execution_count": 13,
   "metadata": {},
   "outputs": [
    {
     "ename": "NameError",
     "evalue": "name 'bm25_retriever' is not defined",
     "output_type": "error",
     "traceback": [
      "\u001b[1;31m---------------------------------------------------------------------------\u001b[0m",
      "\u001b[1;31mNameError\u001b[0m                                 Traceback (most recent call last)",
      "Cell \u001b[1;32mIn[13], line 1\u001b[0m\n\u001b[1;32m----> 1\u001b[0m ensemble_retriever \u001b[38;5;241m=\u001b[39m EnsembleRetriever(retrievers\u001b[38;5;241m=\u001b[39m[\u001b[43mbm25_retriever\u001b[49m, retriever_Chroma],\n\u001b[0;32m      2\u001b[0m                                        weights\u001b[38;5;241m=\u001b[39m[\u001b[38;5;241m0.2\u001b[39m, \u001b[38;5;241m0.8\u001b[39m])\n",
      "\u001b[1;31mNameError\u001b[0m: name 'bm25_retriever' is not defined"
     ]
    }
   ],
   "source": [
    "ensemble_retriever = EnsembleRetriever(retrievers=[bm25_retriever, retriever_Chroma],\n",
    "                                       weights=[0.2, 0.8])\n"
   ]
  },
  {
   "cell_type": "code",
   "execution_count": 10,
   "metadata": {},
   "outputs": [
    {
     "ename": "NameError",
     "evalue": "name 'ensemble_retriever' is not defined",
     "output_type": "error",
     "traceback": [
      "\u001b[1;31m---------------------------------------------------------------------------\u001b[0m",
      "\u001b[1;31mNameError\u001b[0m                                 Traceback (most recent call last)",
      "Cell \u001b[1;32mIn[10], line 2\u001b[0m\n\u001b[0;32m      1\u001b[0m query\u001b[38;5;241m=\u001b[39m\u001b[38;5;124m\"\u001b[39m\u001b[38;5;124mwhat is database\u001b[39m\u001b[38;5;124m\"\u001b[39m\n\u001b[1;32m----> 2\u001b[0m docs \u001b[38;5;241m=\u001b[39m \u001b[43mensemble_retriever\u001b[49m\u001b[38;5;241m.\u001b[39mget_relevant_documents(query)\n",
      "\u001b[1;31mNameError\u001b[0m: name 'ensemble_retriever' is not defined"
     ]
    }
   ],
   "source": [
    "query=\"what is database\"\n",
    "docs = ensemble_retriever.get_relevant_documents(query)"
   ]
  },
  {
   "cell_type": "code",
   "execution_count": 17,
   "metadata": {},
   "outputs": [
    {
     "name": "stderr",
     "output_type": "stream",
     "text": [
      "d:\\Project\\RAG_for_book\\rag_evn\\Lib\\site-packages\\huggingface_hub\\file_download.py:1132: FutureWarning: `resume_download` is deprecated and will be removed in version 1.0.0. Downloads always resume when possible. If you want to force a new download, use `force_download=True`.\n",
      "  warnings.warn(\n"
     ]
    }
   ],
   "source": [
    "from sentence_transformers import CrossEncoder\n",
    "\n",
    "# Load the model, here we use our base sized model\n",
    "model = CrossEncoder(\"mixedbread-ai/mxbai-rerank-base-v1\")"
   ]
  },
  {
   "cell_type": "code",
   "execution_count": 25,
   "metadata": {},
   "outputs": [
    {
     "name": "stdout",
     "output_type": "stream",
     "text": [
      "page_content='DATABASE SYSTEMS  \\nThe Complete Book' metadata={'page': 36, 'source': 'book/ullman_the_complete_book.pdf'}\n",
      "page_content='Chapter 1\\nThe Worlds of Database  \\nSystems\\nDatabases today are essential to every business. Whenever you visit a major \\nWeb site — Google, Yahoo!, Amazon.com, or thousands of smaller sites that \\nprovide information — there is a database behind the scenes serving up the \\ninformation you request. Corporations maintain all their important records in \\ndatabases. Databases are likewise found at the core of many scientific investi\\xad\\ngations. They represent the data gathered by astronomers, by investigators of \\nthe human genome, and by biochemists exploring properties of proteins, among \\nmany other scientific activities.\\nThe power of databases comes from a body of knowledge and technology \\nthat has developed over several decades and is embodied in specialized soft\\xad\\nware called a database management system,  or DBMS , or more colloquially a \\n“database system.” A DBMS is a powerful tool for creating and managing large \\namounts of data efficiently and allowing it to persist over long periods of time, \\nsafely. These systems are among the most complex types of software available. \\nIn this book, we shall learn how to design databases, how to write programs \\nin the various languages associated with a DBMS, and how to implement the \\nDBMS itself.\\n1.1 The Evolution of Database System s\\nWhat is a database? In essence a database is nothing more than a collection of \\ninformation that exists over a long period of time, often many years. In common \\nparlance, the term database  refers to a collection of data that is managed by a \\nDBMS. The DBMS is expected to:\\n1. Allow users to create new databases and specify their schemas  (logical \\nstructure of the data), using a specialized data-definition language.\\n1' metadata={'page': 37, 'source': 'book/ullman_the_complete_book.pdf'}\n",
      "page_content='1.2. OVERVIEW OF A DATABASE MANAGEMENT SYSTEM  5\\ndistributed among them. One popular approach is the creation of data ware\\xad\\nhouses,  where information from many legacy databases is copied periodically, \\nwith the appropriate translation, to a central database. Another approach is \\nthe implementation of a mediator, or “middleware,” whose function is to sup\\xad\\nport an integrated model of the data of the various databases, while translating \\nbetween this model and the actual models used by each database.\\n1.2 Overview of a Database Management  \\nSystem\\nIn Fig. 1.1 we see an outline of a complete DBMS. Single boxes represent system \\ncomponents, while double boxes represent in-memory data structures. The solid \\nlines indicate control and data flow, while dashed lines indicate data flow only. \\nSince the diagram is complicated, we shall consider the details in several stages. \\nFirst, at the top, we suggest that there are two distinct sources of commands \\nto the DBMS:\\n1. Conventional users and application programs that ask for data or modify \\ndata.\\n2. A database administrator:  a person or persons responsible for the struc\\xad\\nture or schema  of the database.\\n1.2.1 Data-Definition Language Commands\\nThe second kind of command is the simpler to process, and we show its trail \\nbeginning at the upper right side of Fig. 1.1. For example, the database admin\\xad\\nistrator, or DBA,  for a university registrar’s database might decide that there \\nshould be a table or relation with columns for a student, a course the student \\nhas taken, and a grade for that student in that course. The DBA might also \\ndecide that the only allowable grades are A, B, C, D, and F. This structure \\nand constraint information is all part of the schema of the database. It is \\nshown in Fig. 1.1 as entered by the DBA, who needs special authority to ex\\xad\\necute schema-altering commands, since these can have profound effects on the \\ndatabase. These schema-altering data-definition language (DDL) commands \\nare parsed by a DDL processor and passed to the execution engine, which then \\ngoes through the index/file/record manager to alter the metadata,  that is, the \\nschema information for the database.\\n1.2.2 Overview of Query Processing\\nThe great majority of interactions with the DBMS follow the path on the left \\nside of Fig. 1.1. A user or an application program initiates some action, using \\nthe data-manipulation language (DML). This command does not affect the \\nschema of the database, but may affect the content of the database (if the' metadata={'page': 41, 'source': 'book/ullman_the_complete_book.pdf'}\n",
      "page_content='DATABASE SYSTEMS  \\nThe Complete Book\\nSecond Edition\\nHector Garcia-Molina  \\nJeffrey D. Ullman  \\nJennifer Widom\\nDepartment o f Computer Science  \\nStanford University\\nUpper Saddle River, New Jersey 07458' metadata={'page': 2, 'source': 'book/ullman_the_complete_book.pdf'}\n",
      "page_content='2 CHAPTER 1. THE WORLDS OF DATABASE SYSTEM S\\n2. Give users the ability to query  the data (a “query” is database lingo for \\na question about the data) and modify the data, using an appropriate \\nlanguage, often called a query language  or data-manipulation language.\\n3. Support the storage of very large amounts of data — many terabytes or \\nmore — over a long period of time, allowing efficient access to the data \\nfor queries and database modifications.\\n4. Enable durability,  the recovery of the database in the face of failures, \\nerrors of many kinds, or intentional misuse.\\n5. Control access to data from many users at once, without allowing unex\\xad\\npected interactions among users (called isolation)  and without actions on \\nthe data to be performed partially but not completely (called atomicity).\\n1.1.1 Early Database Management Systems\\nThe first commercial database management systems appeared in the late 1960’s. \\nThese systems evolved from file systems, which provide some of item (3) above; \\nfile systems store data over a long period of time, and they allow the storage of \\nlarge amounts of data. However, file systems do not generally guarantee that \\ndata cannot be lost if it is not backed up, and they don’ t support efficient access \\nto data items whose location in a particular file is not known.\\nFurther, file systems do not directly support item (2), a query language for \\nthe data in files. Their support for (1) — a schema for the data — is limited to \\nthe creation of directory structures for files. Item (4) is not always supported \\nby file systems; you can lose data that has not been backed up. Finally, file \\nsystems do not satisfy (5). While they allow concurrent access to files by several \\nusers or processes, a file system generally will not prevent situations such as \\ntwo users modifying the same file at about the same time, so the changes made \\nby one user fail to appear in the file.\\nThe first important applications of DBMS’ s were ones where data was com\\xad\\nposed of many small items, and many queries or modifications were made. \\nExamples of these applications are:\\n1. Banking systems: maintaining accounts and making sure that system \\nfailures do not cause money to disappear.\\n2. Airline reservation systems: these, like banking systems, require assurance \\nthat data will not be lost, and they must accept very large volumes of \\nsmall actions by customers.\\n3. Corporate record keeping: employment and tax records, inventories, sales \\nrecords, and a great variety of other types of information, much of it \\ncritical.\\nThe early DBMS’ s required the programmer to visualize data much as it \\nwas stored. These database systems used several different data models for' metadata={'page': 38, 'source': 'book/ullman_the_complete_book.pdf'}\n",
      "page_content='1.3. OUTLINE OF DATABASE-SYSTEM  STUDIES 11\\nPart II: R elation al D atabase P rogram m ing\\nWe then take up the m atter of how relational databases are queried and modi\\xad\\nfied. After an introduction to abstract programming languages based on algebra \\nand logic (Relational Algebra and Datalog, respectively), we turn our atten\\xad\\ntion to the standard language for relational databases: SQL. We study both \\nthe basics and important special topics, including constraint specifications and \\ntriggers (active database elements), indexes and other structures to enhance \\nperformance, forming SQL into transactions, and security and privacy of data \\nin SQL.\\nWe also discuss how SQL is used in complete systems. It is typical to \\ncombine SQL with a conventional or host language and to pass data between \\nthe database and the conventional program via SQL calls. We discuss a number \\nof ways to make this connection, including embedded SQL, Persistent Stored \\nModules (PSM), Call-Level Interface (CLI), Java Database Interconnectivity \\n(JDBC), and PHP.\\nPart III: S em istructured D ata M od elin g and P rogram m ing\\nThe pervasiveness of the Web has put a premium on the management of hierar\\xad\\nchically structured data, because the standards for the Web are based on nested, \\ntagged elements ( semistructured data).  We introduce XML and its schema- \\ndefining notations: Document Type Definitions (DTD) and XML Schema. We \\nalso examine three query languages for XML: XPATH, XQuery, and Extensible \\nStylesheet Language Transform (XSLT).\\nPart IV: D atabase S ystem  Im p lem en tation\\nWe begin with a study of storage management:  how disk-based storage can be \\norganized to allow efficient access to data. We explain the commonly used B- \\ntree, a balanced tree of disk blocks and other specialized schemes for managing \\nmultidimensional data.\\nWe then turn our attention to query processing.  There are two parts to \\nthis study. First, we need to learn query execution:  the algorithms used to \\nimplement the operations from which queries are built. Since data is typically \\non disk, the algorithms are somewhat different from what one would expect \\nwere they to study the same problems but assuming that data were in main \\nmemory. The second step is query compiling.  Here, we study how to select an \\nefficient query plan from among all the possible ways in which a given query \\ncan be executed.\\nThen, we study transaction processing.  There are several threads to follow. \\nOne concerns logging:  maintaining reliable records of what the DBMS is doing, \\nin order to allow recovery  in the event of a crash. Another thread is scheduling:  \\ncontrolling the order of events in transactions to assure the ACID properties. \\nWe also consider how to deal with deadlocks, and the modifications to our algo\\xad\\nrithms that are needed when a transaction is distributed  over many independent' metadata={'page': 47, 'source': 'book/ullman_the_complete_book.pdf'}\n",
      "page_content='1.1. THE EVOLUTION OF DATABASE SYSTEM S 3\\ndescribing the structure of the information in a database, chief among them \\nthe “hierarchical” or tree-based model and the graph-based “network” model. \\nThe latter was standardized in the late 1960’s through a report of CODASYL \\n(Committee on Data Systems and Languages).1\\nA problem with these early models and systems was that they did not sup\\xad\\nport high-level query languages. For example, the CODASYL query language \\nhad statements that allowed the user to jump from data element to data ele\\xad\\nment, through a graph of pointers among these elements. There was consider\\xad\\nable effort needed to write such programs, even for very simple queries.\\n1.1.2 Relational Database Systems\\nFollowing a famous paper written by Ted Codd in 1970,2  database systems \\nchanged significantly. Codd proposed that database systems should present \\nthe user with a view of data organized as tables called relations.  Behind the \\nscenes, there might be a complex data structure that allowed rapid response \\nto a variety of queries. But, unlike the programmers for earlier database sys\\xad\\ntems, the programmer of a relational system would not be concerned with the \\nstorage structure. Queries could be expressed in a very high-level language, \\nwhich greatly increased the efficiency of database programmers. We shall cover \\nthe relational model of database systems throughout most of this book. SQL \\n(“Structured Query Language”), the most important query language based on \\nthe relational model, is covered extensively.\\nBy 1990, relational database systems were the norm. Yet the database field \\ncontinues to evolve, and new issues and approaches to the management of data \\nsurface regularly. Object-oriented features have infilrated the relational model. \\nSome of the largest databases are organized rather differently from those using \\nrelational methodology. In the balance of this section, we shall consider some \\nof the modern trends in database systems.\\n1.1.3 Smaller and Smaller Systems\\nOriginally, DBMS’ s were large, expensive software systems running on large \\ncomputers. The size was necessary, because to store a gigabyte of data required \\na large computer system. Today, hundreds of gigabytes fit on a single disk, \\nand it is quite feasible to run a DBMS on a personal computer. Thus, database \\nsystems based on the relational model have become available for even very small \\nmachines, and they are beginning to appear as a common tool for computer \\napplications, much as spreadsheets and word processors did before them.\\nAnother important trend is the use of documents, often tagged using XML \\n(extensible Modeling Language). Large collections of small documents can\\n1  C O D A S Y L  D ata B ase Task Group A p ril 1971 Report,  A CM , New York.\\n2C odd, E . F ., “A relational m odel for large shared d a ta  banks,” C om m . A C M ,  13:6, \\npp. 377-387, 1970.' metadata={'page': 39, 'source': 'book/ullman_the_complete_book.pdf'}\n",
      "page_content='Chapter 2\\nThe Relational M odel of  \\nData\\nThis chapter introduces the most important model of data: the two-dimensional \\ntable, or “relation.” We begin with an overview of data models in general. We \\ngive the basic terminology for relations and show how the model can be used to \\nrepresent typical forms of data. We then introduce a portion of the language \\nSQL — that part used to declare relations and their structure. The chapter \\ncloses with an introduction to relational algebra. We see how this notation \\nserves as both a query language — the aspect of a data model that enables us \\nto ask questions about the data — and as a constraint language — the aspect \\nof a data model that lets us restrict the data in the database in various ways.\\n2.1 An Overview of Data M odels\\nThe notion of a “data model” is one of the most fundamental in the study of \\ndatabase systems. In this brief summary of the concept, we define some basic \\nterminology and mention the most important data models.\\n2.1.1 W hat is a Data Model?\\nA data model  is a notation for describing data or information. The description \\ngenerally consists of three parts:\\n1. Structure of the data.  You may be familiar with tools in programming \\nlanguages such as C or Java for describing the structure of the data used by \\na program: arrays and structures (“structs”) or objects, for example. The \\ndata structures used to implement data in the computer are sometimes \\nreferred to, in discussions of database systems, as a physical data model,  \\nalthough in fact they are far removed from the gates and electrons that \\ntruly serve as the physical implementation of the data. In the database\\n17' metadata={'page': 53, 'source': 'book/ullman_the_complete_book.pdf'}\n",
      "page_content='18 CHAPTER 2. THE RELATIONAL MODEL OF DATA\\nworld, data models are at a somewhat higher level than data structures, \\nand are sometimes referred to as a conceptual model  to emphasize the \\ndifference in level. We shall see examples shortly.\\n2. Operations on the data.  In programming languages, operations on the \\ndata are generally anything that can be programmed. In database data \\nmodels, there is usually a limited set of operations that can be performed. \\nWe are generally allowed to perform a limited set of queries  (operations \\nthat retrieve information) and modifications  (operations that change the \\ndatabase). This limitation is not a weakness, but a strength. By limiting \\noperations, it is possible for programmers to describe database operations \\nat a very high level, yet have the database management system implement \\nthe operations efficiently. In comparison, it is generally impossible to \\noptimize programs in conventional languages like C, to the extent that an \\ninefficient algorithm (e.g., bubblesort) is replaced by a more efficient one \\n(e.g., quicksort).\\n3. Constraints on the data.  Database data models usually have a way to \\ndescribe limitations on what the data can be. These constraints can range \\nfrom the simple (e.g., “a day of the week is an integer between 1 and 7” \\nor “a movie has at most one title”) to some very complex limitations that \\nwe shall discuss in Sections 7.4 and 7.5.\\n2.1.2 Important Data Models\\nToday, the two data models of preeminent importance for database systems are:\\n1. The relational model, including object-relational extensions.\\n2. The semistructured-data model, including XML and related standards.\\nThe first, which is present in all commercial database management systems, \\nis the subject of this chapter. The semistructured model, of which XML is \\nthe primary manifestation, is an added feature of most relational DBMS’s, and \\nappears in a number of other contexts as well. We turn to this data model \\nstarting in Chapter 11.\\n2.1.3 The Relational Model in Brief\\nThe relational model is based on tables, of which Fig. 2.1 is an example. We \\nshall discuss this model beginning in Section 2.2. This relation, or table, de\\xad\\nscribes movies: their title, the year in which they were made, their length in \\nminutes, and the genre of the movie. We show three particular movies, but you \\nshould imagine that there are many more rows to this table — one row for each \\nmovie ever made, perhaps.\\nThe structure portion of the relational model might appear to resemble an \\narray of structs in C, where the column headers are the field names, and each' metadata={'page': 54, 'source': 'book/ullman_the_complete_book.pdf'}\n",
      "page_content='888 CHAPTER 18. CONCURRENCY CONTROL\\nTi T2 A  B\\n25 25\\nREAD(A,t)\\nt := t+100\\nWRITE(A,t) 125\\nREAD(A,s)\\ns := s+200\\nWRITE(A,s) 325\\nREAD(B,s)\\ns := s+200\\nWRITE(B,s) 225\\nREAD(B,t)\\nt := t+100\\nWRITE(B,t) 325\\nFigure 18.7: A schedule that is serializable only because of the detailed behavior \\nof the transactions\\nE xam ple 18.4: Consider the schedule of Fig. 18.7, which differs from Fig. 18.6 \\nonly in the computation that T 2 performs. That is, instead of multiplying A \\nand B by 2, T 2 adds 200 to each. One can easily check that regardless of the \\nconsistent initial state, the final state is the one that results from the serial \\nschedule (Ti,T 2). Coincidentally, it also results from the other serial schedule,\\n(r2,Ti). □\\nUnfortunately, it is not realistic for the scheduler to concern itself with the \\ndetails of computation undertaken by transactions. Since transactions often \\ninvolve code written in a general-purpose programming language as well as \\nSQL or other high-level-language statements, it is impossible to say for certain \\nwhat a transaction is doing. However, the scheduler does get to see the read and \\nwrite requests from the transactions, so it can know what database elements \\neach transaction reads, and what elements it might  change. To simplify the job \\nof the scheduler, it is conventional to assume that:\\n• Any database element A that a transaction T writes is given a value \\nthat depends on the database state in such a way that no arithmetic \\ncoincidences occur.\\nAn example of a “coincidence” is that in Example 18.4, where A +100 + 200 = \\nB  + 200 +100 whenever A = B,  even though the two operations are carried out \\nin different orders on the two variables. Put another way, if there is something \\nthat T could do to a database element to make the database state inconsistent, \\nthen T  will do that.' metadata={'source': 'book/ullman_the_complete_book.pdf', 'page': 924}\n",
      "page_content='19.3. LONG-D URATION TRANSACTIONS 979\\nWhen are Database States “The Same”?\\nWhen discussing compensating transactions, we should be careful about \\nwhat it means to return the database to “the same” state that it had \\nbefore. We had a taste of the problem when we discussed logical logging \\nfor B-trees in Example 19.8. There we saw that if we “undid” an oper\\xad\\nation, the state of the B-tree might not be identical to the state before \\nthe operation, but would be equivalent to it as far as access operations \\non the B-tree were concerned. More generally, executing an action and \\nits compensating transaction might not restore the database to a state \\nliterally identical to what existed before, but the differences must not be \\ndetectable by whatever application programs the database supports.\\n19.3.3 Compensating Transactions\\nIn a saga, each action A has a compensating transaction,  which we denote A-1 . \\nIntuitively, if we execute A, and later execute A~1,  then the resulting database \\nstate is the same as if neither A nor A~ 1 had executed. More formally:\\n• If D is any database state, and B\\\\B 2 ■  ■  ■  Bn  is any sequence of actions \\nand compensating transactions (whether from the saga in question or any \\nother saga or transaction that may legally execute on the database) then \\nthe same database states result from running the sequences B\\\\B 2 -Bn  \\nand AB 1B2 ■ •  ■  BnA~l  starting in database state D.\\nIf a saga execution leads to the Abort  node, then we roll back the saga \\nby executing the compensating transactions for each executed action, in the \\nreverse order of those actions. By the property of compensating transactions \\nstated above, the effect of the saga is negated, and the database state is the same \\nas if it had never happened. An explanation of why the effect is guaranteed to \\nbe negated is given in Section 19.3.4\\nE xam ple 19.15: Let us consider the actions in Fig. 19.11 and see what the \\ncompensating transactions for Ai through A6 might be. First, A\\\\ creates an on\\xad\\nline document. If the document is stored in the database, then Aj \"1 must remove \\nit from the database. Notice that this compensation obeys the fundamental \\nproperty for compensating transactions: If we create the document, do any \\nsequence of actions a (including deletion of the document if we wish), then the \\neffect of AiccA ^ 1 is the same as the effect of a.\\nAi must be implemented carefully. We “reserve” the money by deducting \\nit from the account. The money will stay removed unless restored by the com\\xad\\npensating transaction AJ 1. We claim that this A^ 1 is a correct compensating \\ntransaction if the usual rules for how accounts may be managed Eire followed. \\nTo appreciate the point, it is useful to consider a similar transaction where the' metadata={'source': 'book/ullman_the_complete_book.pdf', 'page': 1015}\n",
      "page_content='Chapter 17\\nCoping W ith System  \\nFailures\\nStarting with this chapter, we focus our attention on those parts of a DBMS \\nthat control access to data. There are two major issues to address:\\n1. Data must be protected in the face of a system failure. This chapter deals \\nwith techniques for supporting the goal of resilience,  that is, integrity of \\nthe data when the system fails in some way.\\n2. Data must not be corrupted simply because several error-free queries or \\ndatabase modifications are being done at once. This matter is addressed \\nin Chapters 18 and 19.\\nThe principal technique for supporting resilience is a log, which records \\nsecurely the history of database changes. We shall discuss three different styles \\nof logging, called “undo,” “redo,” and “undo/redo.” We also discuss recovery,  \\nthe process whereby the log is used to reconstruct what has happened to the \\ndatabase when there has been a failure. An important aspect of logging and \\nrecovery is avoidance of the situation where the log must be examined into \\nthe distant past. Thus, we shall learn about “checkpointing,” which limits the \\nlength of log that must be examined during recovery.\\nIn a final section, we discuss “archiving,” which allows the database to \\nsurvive not only temporary system failures, but situations where the entire \\ndatabase is lost. Then, we must rely on a recent copy of the database (the \\narchive) plus whatever log information survives, to reconstruct the database as \\nit existed at some point in the recent past.\\n17.1 Issues and M odels for Resilient Operation\\nWe begin our discussion of coping with failures by reviewing the kinds of things \\nthat can go wrong, and what a DBMS can and should do about them. We\\n843' metadata={'source': 'book/ullman_the_complete_book.pdf', 'page': 879}\n",
      "page_content='Chapter 4\\nHigh-Level Database  \\nModels\\nLet us consider the process whereby a new database, such as our movie database, \\nis created. Figure 4.1 suggests the process. We begin with a design phase, in \\nwhich we address and answer questions about what information will be stored, \\nhow information elements will be related to one another, what constraints such \\nas keys or referential integrity may be assumed, and so on. This phase may last \\nfor a long time, while options are evaluated and opinions axe reconciled. We \\nshow this phase in Fig. 4.1 as the conversion of ideas to a high-level design.\\nRelational\\nIdeas ---------- ► H igh-L evel ---------- ^  Database\\nDesi§n Schem a\\nFigure 4.1: The database modeling and implementation process\\nSince the great majority of commercial database systems use the relational \\nmodel, we might suppose that the design phase should use this model too. \\nHowever, in practice it is often easier to start with a higher-level model and \\nthen convert the design to the relational model. The primary reason for doing so \\nis that the relational model has only one concept — the relation — rather than \\nseveral complementary concepts that more closely model real-world situations. \\nSimplicity of concepts in the relational model is a great strength of the model, \\nespecially when it comes to efficient implementation of database operations. \\nYet that strength becomes a weakness when we do a preliminary design, which \\nis why it often is helpful to begin by using a high-level design model.\\nThere are several options for the notation in which the design is expressed. \\nThe first, and oldest, method is the “entity-relationship diagram,” and here is \\nwhere we shall start in Section 4.1. A more recent trend is the use of UML \\n(“Unified Modeling Language”), a notation that was originally designed forRelational\\nDBM S\\n125' metadata={'source': 'book/ullman_the_complete_book.pdf', 'page': 161}\n"
     ]
    }
   ],
   "source": [
    "for i in range(len(docs)):\n",
    "    print(docs[i])"
   ]
  },
  {
   "cell_type": "code",
   "execution_count": 26,
   "metadata": {},
   "outputs": [],
   "source": [
    "documents = [doc.page_content for doc in docs]"
   ]
  },
  {
   "cell_type": "code",
   "execution_count": 27,
   "metadata": {},
   "outputs": [],
   "source": [
    "results = model.rank(query, documents, return_documents=True, top_k=3)"
   ]
  },
  {
   "cell_type": "code",
   "execution_count": 28,
   "metadata": {},
   "outputs": [
    {
     "data": {
      "text/plain": [
       "[{'corpus_id': 1,\n",
       "  'score': 0.9873052,\n",
       "  'text': 'Chapter 1\\nThe Worlds of Database  \\nSystems\\nDatabases today are essential to every business. Whenever you visit a major \\nWeb site — Google, Yahoo!, Amazon.com, or thousands of smaller sites that \\nprovide information — there is a database behind the scenes serving up the \\ninformation you request. Corporations maintain all their important records in \\ndatabases. Databases are likewise found at the core of many scientific investi\\xad\\ngations. They represent the data gathered by astronomers, by investigators of \\nthe human genome, and by biochemists exploring properties of proteins, among \\nmany other scientific activities.\\nThe power of databases comes from a body of knowledge and technology \\nthat has developed over several decades and is embodied in specialized soft\\xad\\nware called a database management system,  or DBMS , or more colloquially a \\n“database system.” A DBMS is a powerful tool for creating and managing large \\namounts of data efficiently and allowing it to persist over long periods of time, \\nsafely. These systems are among the most complex types of software available. \\nIn this book, we shall learn how to design databases, how to write programs \\nin the various languages associated with a DBMS, and how to implement the \\nDBMS itself.\\n1.1 The Evolution of Database System s\\nWhat is a database? In essence a database is nothing more than a collection of \\ninformation that exists over a long period of time, often many years. In common \\nparlance, the term database  refers to a collection of data that is managed by a \\nDBMS. The DBMS is expected to:\\n1. Allow users to create new databases and specify their schemas  (logical \\nstructure of the data), using a specialized data-definition language.\\n1'},\n",
       " {'corpus_id': 7,\n",
       "  'score': 0.8470436,\n",
       "  'text': 'Chapter 2\\nThe Relational M odel of  \\nData\\nThis chapter introduces the most important model of data: the two-dimensional \\ntable, or “relation.” We begin with an overview of data models in general. We \\ngive the basic terminology for relations and show how the model can be used to \\nrepresent typical forms of data. We then introduce a portion of the language \\nSQL — that part used to declare relations and their structure. The chapter \\ncloses with an introduction to relational algebra. We see how this notation \\nserves as both a query language — the aspect of a data model that enables us \\nto ask questions about the data — and as a constraint language — the aspect \\nof a data model that lets us restrict the data in the database in various ways.\\n2.1 An Overview of Data M odels\\nThe notion of a “data model” is one of the most fundamental in the study of \\ndatabase systems. In this brief summary of the concept, we define some basic \\nterminology and mention the most important data models.\\n2.1.1 W hat is a Data Model?\\nA data model  is a notation for describing data or information. The description \\ngenerally consists of three parts:\\n1. Structure of the data.  You may be familiar with tools in programming \\nlanguages such as C or Java for describing the structure of the data used by \\na program: arrays and structures (“structs”) or objects, for example. The \\ndata structures used to implement data in the computer are sometimes \\nreferred to, in discussions of database systems, as a physical data model,  \\nalthough in fact they are far removed from the gates and electrons that \\ntruly serve as the physical implementation of the data. In the database\\n17'},\n",
       " {'corpus_id': 6,\n",
       "  'score': 0.78803533,\n",
       "  'text': '1.1. THE EVOLUTION OF DATABASE SYSTEM S 3\\ndescribing the structure of the information in a database, chief among them \\nthe “hierarchical” or tree-based model and the graph-based “network” model. \\nThe latter was standardized in the late 1960’s through a report of CODASYL \\n(Committee on Data Systems and Languages).1\\nA problem with these early models and systems was that they did not sup\\xad\\nport high-level query languages. For example, the CODASYL query language \\nhad statements that allowed the user to jump from data element to data ele\\xad\\nment, through a graph of pointers among these elements. There was consider\\xad\\nable effort needed to write such programs, even for very simple queries.\\n1.1.2 Relational Database Systems\\nFollowing a famous paper written by Ted Codd in 1970,2  database systems \\nchanged significantly. Codd proposed that database systems should present \\nthe user with a view of data organized as tables called relations.  Behind the \\nscenes, there might be a complex data structure that allowed rapid response \\nto a variety of queries. But, unlike the programmers for earlier database sys\\xad\\ntems, the programmer of a relational system would not be concerned with the \\nstorage structure. Queries could be expressed in a very high-level language, \\nwhich greatly increased the efficiency of database programmers. We shall cover \\nthe relational model of database systems throughout most of this book. SQL \\n(“Structured Query Language”), the most important query language based on \\nthe relational model, is covered extensively.\\nBy 1990, relational database systems were the norm. Yet the database field \\ncontinues to evolve, and new issues and approaches to the management of data \\nsurface regularly. Object-oriented features have infilrated the relational model. \\nSome of the largest databases are organized rather differently from those using \\nrelational methodology. In the balance of this section, we shall consider some \\nof the modern trends in database systems.\\n1.1.3 Smaller and Smaller Systems\\nOriginally, DBMS’ s were large, expensive software systems running on large \\ncomputers. The size was necessary, because to store a gigabyte of data required \\na large computer system. Today, hundreds of gigabytes fit on a single disk, \\nand it is quite feasible to run a DBMS on a personal computer. Thus, database \\nsystems based on the relational model have become available for even very small \\nmachines, and they are beginning to appear as a common tool for computer \\napplications, much as spreadsheets and word processors did before them.\\nAnother important trend is the use of documents, often tagged using XML \\n(extensible Modeling Language). Large collections of small documents can\\n1  C O D A S Y L  D ata B ase Task Group A p ril 1971 Report,  A CM , New York.\\n2C odd, E . F ., “A relational m odel for large shared d a ta  banks,” C om m . A C M ,  13:6, \\npp. 377-387, 1970.'}]"
      ]
     },
     "execution_count": 28,
     "metadata": {},
     "output_type": "execute_result"
    }
   ],
   "source": [
    "results[0]['text']"
   ]
  },
  {
   "cell_type": "code",
   "execution_count": 2,
   "metadata": {},
   "outputs": [
    {
     "data": {
      "text/plain": [
       "1"
      ]
     },
     "execution_count": 2,
     "metadata": {},
     "output_type": "execute_result"
    }
   ],
   "source": [
    "None or 1"
   ]
  },
  {
   "cell_type": "code",
   "execution_count": null,
   "metadata": {},
   "outputs": [],
   "source": []
  }
 ],
 "metadata": {
  "kernelspec": {
   "display_name": "rag_evn",
   "language": "python",
   "name": "python3"
  },
  "language_info": {
   "codemirror_mode": {
    "name": "ipython",
    "version": 3
   },
   "file_extension": ".py",
   "mimetype": "text/x-python",
   "name": "python",
   "nbconvert_exporter": "python",
   "pygments_lexer": "ipython3",
   "version": "3.11.4"
  }
 },
 "nbformat": 4,
 "nbformat_minor": 2
}
